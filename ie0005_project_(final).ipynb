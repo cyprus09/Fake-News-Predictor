{
  "cells": [
    {
      "cell_type": "markdown",
      "id": "6b886935",
      "metadata": {
        "id": "6b886935"
      },
      "source": [
        "# Fake News Detection\n",
        "IE0005 Project by Bryan Noel, Sharyn Anastasia, Nicholas Sachio, Mayank Pallai <br>\n",
        "Dataset: https://www.kaggle.com/datasets/clmentbisaillon/fake-and-real-news-dataset"
      ]
    },
    {
      "cell_type": "code",
      "execution_count": null,
      "id": "f397cb34",
      "metadata": {
        "id": "f397cb34"
      },
      "outputs": [],
      "source": [
        "import numpy as np\n",
        "import pandas as pd\n",
        "import seaborn as sb\n",
        "import matplotlib.pyplot as plt \n",
        "import calendar\n",
        "sb.set()\n",
        "from sklearn.model_selection import train_test_split\n",
        "import pandas as pd\n",
        "from sklearn.tree import DecisionTreeClassifier"
      ]
    },
    {
      "cell_type": "markdown",
      "id": "49bef5dc",
      "metadata": {
        "id": "49bef5dc"
      },
      "source": [
        "\n",
        "## Import the Dataset"
      ]
    },
    {
      "cell_type": "code",
      "execution_count": null,
      "id": "034673c7",
      "metadata": {
        "id": "034673c7"
      },
      "outputs": [],
      "source": [
        "Fakedata = pd.read_csv('Fake.csv', error_bad_lines = False, engine = 'python')\n",
        "Truedata = pd.read_csv('True.csv', error_bad_lines = False, engine = 'python')"
      ]
    },
    {
      "cell_type": "code",
      "execution_count": 101,
      "id": "be7b6d4d",
      "metadata": {
        "id": "be7b6d4d",
        "colab": {
          "base_uri": "https://localhost:8080/",
          "height": 206
        },
        "outputId": "6ef7c408-6407-437d-8da0-feba220eb1c9"
      },
      "outputs": [
        {
          "output_type": "execute_result",
          "data": {
            "text/plain": [
              "                                               title  \\\n",
              "0   Donald Trump Sends Out Embarrassing New Year’...   \n",
              "1   Drunk Bragging Trump Staffer Started Russian ...   \n",
              "2   Sheriff David Clarke Becomes An Internet Joke...   \n",
              "3   Trump Is So Obsessed He Even Has Obama’s Name...   \n",
              "4   Pope Francis Just Called Out Donald Trump Dur...   \n",
              "\n",
              "                                                text subject  \\\n",
              "0  Donald Trump just couldn t wish all Americans ...    News   \n",
              "1  House Intelligence Committee Chairman Devin Nu...    News   \n",
              "2  On Friday, it was revealed that former Milwauk...    News   \n",
              "3  On Christmas day, Donald Trump announced that ...    News   \n",
              "4  Pope Francis used his annual Christmas Day mes...    News   \n",
              "\n",
              "                date  \n",
              "0  December 31, 2017  \n",
              "1  December 31, 2017  \n",
              "2  December 30, 2017  \n",
              "3  December 29, 2017  \n",
              "4  December 25, 2017  "
            ],
            "text/html": [
              "\n",
              "  <div id=\"df-6369a778-1790-4f7a-8414-6c7142294ba4\">\n",
              "    <div class=\"colab-df-container\">\n",
              "      <div>\n",
              "<style scoped>\n",
              "    .dataframe tbody tr th:only-of-type {\n",
              "        vertical-align: middle;\n",
              "    }\n",
              "\n",
              "    .dataframe tbody tr th {\n",
              "        vertical-align: top;\n",
              "    }\n",
              "\n",
              "    .dataframe thead th {\n",
              "        text-align: right;\n",
              "    }\n",
              "</style>\n",
              "<table border=\"1\" class=\"dataframe\">\n",
              "  <thead>\n",
              "    <tr style=\"text-align: right;\">\n",
              "      <th></th>\n",
              "      <th>title</th>\n",
              "      <th>text</th>\n",
              "      <th>subject</th>\n",
              "      <th>date</th>\n",
              "    </tr>\n",
              "  </thead>\n",
              "  <tbody>\n",
              "    <tr>\n",
              "      <th>0</th>\n",
              "      <td>Donald Trump Sends Out Embarrassing New Year’...</td>\n",
              "      <td>Donald Trump just couldn t wish all Americans ...</td>\n",
              "      <td>News</td>\n",
              "      <td>December 31, 2017</td>\n",
              "    </tr>\n",
              "    <tr>\n",
              "      <th>1</th>\n",
              "      <td>Drunk Bragging Trump Staffer Started Russian ...</td>\n",
              "      <td>House Intelligence Committee Chairman Devin Nu...</td>\n",
              "      <td>News</td>\n",
              "      <td>December 31, 2017</td>\n",
              "    </tr>\n",
              "    <tr>\n",
              "      <th>2</th>\n",
              "      <td>Sheriff David Clarke Becomes An Internet Joke...</td>\n",
              "      <td>On Friday, it was revealed that former Milwauk...</td>\n",
              "      <td>News</td>\n",
              "      <td>December 30, 2017</td>\n",
              "    </tr>\n",
              "    <tr>\n",
              "      <th>3</th>\n",
              "      <td>Trump Is So Obsessed He Even Has Obama’s Name...</td>\n",
              "      <td>On Christmas day, Donald Trump announced that ...</td>\n",
              "      <td>News</td>\n",
              "      <td>December 29, 2017</td>\n",
              "    </tr>\n",
              "    <tr>\n",
              "      <th>4</th>\n",
              "      <td>Pope Francis Just Called Out Donald Trump Dur...</td>\n",
              "      <td>Pope Francis used his annual Christmas Day mes...</td>\n",
              "      <td>News</td>\n",
              "      <td>December 25, 2017</td>\n",
              "    </tr>\n",
              "  </tbody>\n",
              "</table>\n",
              "</div>\n",
              "      <button class=\"colab-df-convert\" onclick=\"convertToInteractive('df-6369a778-1790-4f7a-8414-6c7142294ba4')\"\n",
              "              title=\"Convert this dataframe to an interactive table.\"\n",
              "              style=\"display:none;\">\n",
              "        \n",
              "  <svg xmlns=\"http://www.w3.org/2000/svg\" height=\"24px\"viewBox=\"0 0 24 24\"\n",
              "       width=\"24px\">\n",
              "    <path d=\"M0 0h24v24H0V0z\" fill=\"none\"/>\n",
              "    <path d=\"M18.56 5.44l.94 2.06.94-2.06 2.06-.94-2.06-.94-.94-2.06-.94 2.06-2.06.94zm-11 1L8.5 8.5l.94-2.06 2.06-.94-2.06-.94L8.5 2.5l-.94 2.06-2.06.94zm10 10l.94 2.06.94-2.06 2.06-.94-2.06-.94-.94-2.06-.94 2.06-2.06.94z\"/><path d=\"M17.41 7.96l-1.37-1.37c-.4-.4-.92-.59-1.43-.59-.52 0-1.04.2-1.43.59L10.3 9.45l-7.72 7.72c-.78.78-.78 2.05 0 2.83L4 21.41c.39.39.9.59 1.41.59.51 0 1.02-.2 1.41-.59l7.78-7.78 2.81-2.81c.8-.78.8-2.07 0-2.86zM5.41 20L4 18.59l7.72-7.72 1.47 1.35L5.41 20z\"/>\n",
              "  </svg>\n",
              "      </button>\n",
              "      \n",
              "  <style>\n",
              "    .colab-df-container {\n",
              "      display:flex;\n",
              "      flex-wrap:wrap;\n",
              "      gap: 12px;\n",
              "    }\n",
              "\n",
              "    .colab-df-convert {\n",
              "      background-color: #E8F0FE;\n",
              "      border: none;\n",
              "      border-radius: 50%;\n",
              "      cursor: pointer;\n",
              "      display: none;\n",
              "      fill: #1967D2;\n",
              "      height: 32px;\n",
              "      padding: 0 0 0 0;\n",
              "      width: 32px;\n",
              "    }\n",
              "\n",
              "    .colab-df-convert:hover {\n",
              "      background-color: #E2EBFA;\n",
              "      box-shadow: 0px 1px 2px rgba(60, 64, 67, 0.3), 0px 1px 3px 1px rgba(60, 64, 67, 0.15);\n",
              "      fill: #174EA6;\n",
              "    }\n",
              "\n",
              "    [theme=dark] .colab-df-convert {\n",
              "      background-color: #3B4455;\n",
              "      fill: #D2E3FC;\n",
              "    }\n",
              "\n",
              "    [theme=dark] .colab-df-convert:hover {\n",
              "      background-color: #434B5C;\n",
              "      box-shadow: 0px 1px 3px 1px rgba(0, 0, 0, 0.15);\n",
              "      filter: drop-shadow(0px 1px 2px rgba(0, 0, 0, 0.3));\n",
              "      fill: #FFFFFF;\n",
              "    }\n",
              "  </style>\n",
              "\n",
              "      <script>\n",
              "        const buttonEl =\n",
              "          document.querySelector('#df-6369a778-1790-4f7a-8414-6c7142294ba4 button.colab-df-convert');\n",
              "        buttonEl.style.display =\n",
              "          google.colab.kernel.accessAllowed ? 'block' : 'none';\n",
              "\n",
              "        async function convertToInteractive(key) {\n",
              "          const element = document.querySelector('#df-6369a778-1790-4f7a-8414-6c7142294ba4');\n",
              "          const dataTable =\n",
              "            await google.colab.kernel.invokeFunction('convertToInteractive',\n",
              "                                                     [key], {});\n",
              "          if (!dataTable) return;\n",
              "\n",
              "          const docLinkHtml = 'Like what you see? Visit the ' +\n",
              "            '<a target=\"_blank\" href=https://colab.research.google.com/notebooks/data_table.ipynb>data table notebook</a>'\n",
              "            + ' to learn more about interactive tables.';\n",
              "          element.innerHTML = '';\n",
              "          dataTable['output_type'] = 'display_data';\n",
              "          await google.colab.output.renderOutput(dataTable, element);\n",
              "          const docLink = document.createElement('div');\n",
              "          docLink.innerHTML = docLinkHtml;\n",
              "          element.appendChild(docLink);\n",
              "        }\n",
              "      </script>\n",
              "    </div>\n",
              "  </div>\n",
              "  "
            ]
          },
          "metadata": {},
          "execution_count": 101
        }
      ],
      "source": [
        "Fakedata.head()"
      ]
    },
    {
      "cell_type": "code",
      "source": [
        "Fakedata.shape"
      ],
      "metadata": {
        "colab": {
          "base_uri": "https://localhost:8080/"
        },
        "id": "QLRVMeayngJT",
        "outputId": "4c2436cc-d21c-4151-b7ef-0576e9cbf1fc"
      },
      "id": "QLRVMeayngJT",
      "execution_count": 102,
      "outputs": [
        {
          "output_type": "execute_result",
          "data": {
            "text/plain": [
              "(2738, 4)"
            ]
          },
          "metadata": {},
          "execution_count": 102
        }
      ]
    },
    {
      "cell_type": "code",
      "execution_count": null,
      "id": "eb366250",
      "metadata": {
        "id": "eb366250"
      },
      "outputs": [],
      "source": [
        "Truedata.head()"
      ]
    },
    {
      "cell_type": "code",
      "source": [
        "Truedata.shape"
      ],
      "metadata": {
        "colab": {
          "base_uri": "https://localhost:8080/"
        },
        "id": "CrjGNhxdni2V",
        "outputId": "0e04728e-c1c2-4ad8-fa30-26ca52aefe30"
      },
      "id": "CrjGNhxdni2V",
      "execution_count": 103,
      "outputs": [
        {
          "output_type": "execute_result",
          "data": {
            "text/plain": [
              "(3307, 4)"
            ]
          },
          "metadata": {},
          "execution_count": 103
        }
      ]
    },
    {
      "cell_type": "markdown",
      "id": "b0881576",
      "metadata": {
        "id": "b0881576"
      },
      "source": [
        "## Joining the two datasets\n",
        "\n",
        "As there are two datasets, one is the fake news, and the other one is real news.\n",
        "Before we concat those datasets, we create a new column called 'reliability' to differentiate the fake and real news.\n",
        "We set 0 for fake news and 1 for real news. Last, we concat the two datasets into a single dataset called 'News Data'."
      ]
    },
    {
      "cell_type": "code",
      "execution_count": null,
      "id": "346d9c19",
      "metadata": {
        "id": "346d9c19"
      },
      "outputs": [],
      "source": [
        "Fakedata['reliability'] = 0\n",
        "Truedata['reliability'] = 1"
      ]
    },
    {
      "cell_type": "code",
      "execution_count": null,
      "id": "0c88ff6e",
      "metadata": {
        "id": "0c88ff6e"
      },
      "outputs": [],
      "source": [
        "news_data = pd.concat([Fakedata, Truedata])\n",
        "news_data.sample(10)"
      ]
    },
    {
      "cell_type": "code",
      "source": [
        "news_data.shape"
      ],
      "metadata": {
        "colab": {
          "base_uri": "https://localhost:8080/"
        },
        "id": "On2RU2COnVUB",
        "outputId": "50f6d7e0-3d28-450c-9fed-1b802e64c9b8"
      },
      "id": "On2RU2COnVUB",
      "execution_count": 98,
      "outputs": [
        {
          "output_type": "execute_result",
          "data": {
            "text/plain": [
              "(2418, 5)"
            ]
          },
          "metadata": {},
          "execution_count": 98
        }
      ]
    },
    {
      "cell_type": "code",
      "execution_count": null,
      "id": "457acee4",
      "metadata": {
        "id": "457acee4"
      },
      "outputs": [],
      "source": [
        "print(\"Data type : \", type(news_data))\n",
        "print(\"Data dims : \", news_data.shape)"
      ]
    },
    {
      "cell_type": "code",
      "execution_count": null,
      "id": "37edbaf3",
      "metadata": {
        "id": "37edbaf3"
      },
      "outputs": [],
      "source": [
        "print(news_data.dtypes)"
      ]
    },
    {
      "cell_type": "code",
      "execution_count": null,
      "id": "a15ab477",
      "metadata": {
        "id": "a15ab477"
      },
      "outputs": [],
      "source": [
        "news_data.info()"
      ]
    },
    {
      "cell_type": "markdown",
      "id": "40379f11",
      "metadata": {
        "id": "40379f11"
      },
      "source": [
        "## Cleaning the dataset\n",
        "Before we analyse the data, we have to clean the data to ensure that there is no null value in it. This procedure will also increase the accuracy of the machine learning."
      ]
    },
    {
      "cell_type": "code",
      "execution_count": null,
      "id": "5950917a",
      "metadata": {
        "id": "5950917a"
      },
      "outputs": [],
      "source": [
        "# Create a copy of the Dataset\n",
        "news_data_clean = news_data.copy()\n",
        "\n",
        "# Convert all Variable Names to UPPERCASE\n",
        "news_data_clean.columns = news_data_clean.columns.str.upper()\n",
        "\n",
        "# Print the Variable Information to check\n",
        "news_data_clean.info()"
      ]
    },
    {
      "cell_type": "code",
      "execution_count": null,
      "id": "0777187a",
      "metadata": {
        "id": "0777187a"
      },
      "outputs": [],
      "source": [
        "news_data_clean.isnull().sum()"
      ]
    },
    {
      "cell_type": "code",
      "source": [
        "news_data_clean.fillna(\"\")"
      ],
      "metadata": {
        "id": "CT6fB4qtzY66",
        "colab": {
          "base_uri": "https://localhost:8080/",
          "height": 424
        },
        "outputId": "bacb2de4-98e3-4ffe-9dd2-95e7b88dd200"
      },
      "id": "CT6fB4qtzY66",
      "execution_count": 99,
      "outputs": [
        {
          "output_type": "execute_result",
          "data": {
            "text/plain": [
              "                                                  TITLE  \\\n",
              "0      Donald Trump Sends Out Embarrassing New Year’...   \n",
              "1      Drunk Bragging Trump Staffer Started Russian ...   \n",
              "2      Sheriff David Clarke Becomes An Internet Joke...   \n",
              "3      Trump Is So Obsessed He Even Has Obama’s Name...   \n",
              "4      Pope Francis Just Called Out Donald Trump Dur...   \n",
              "...                                                 ...   \n",
              "1212  Trump to meet Yellen Thursday in search for ne...   \n",
              "1213  Trump says he believes Cuba responsible for at...   \n",
              "1214  U.S. condemns Venezuelan elections as neither ...   \n",
              "1215  EPA head seeks to avoid settlements with green...   \n",
              "1216  Republican U.S. Senator Cochran postpones retu...   \n",
              "\n",
              "                                                   TEXT       SUBJECT  \\\n",
              "0     donald trump send embarrass new year eve messa...          News   \n",
              "1     drunk brag trump staffer start russian collus ...          News   \n",
              "2     sheriff david clark becom internet joke threat...          News   \n",
              "3     trump obsess even obama name code websit imag ...          News   \n",
              "4     pope franci call donald trump christma speechp...          News   \n",
              "...                                                 ...           ...   \n",
              "1212  trump meet yellen thursday search new fed chai...  politicsNews   \n",
              "1213  trump say believ cuba respons attack hurt u di...  politicsNews   \n",
              "1214  u condemn venezuelan elect neither free fairu ...  politicsNews   \n",
              "1215  epa head seek avoid settlement green groupsepa...  politicsNews   \n",
              "1216  republican u senat cochran postpon return wash...  politicsNews   \n",
              "\n",
              "           DATE  RELIABILITY     MONTH  YEAR  \n",
              "0    2017-12-31            0  December  2017  \n",
              "1    2017-12-31            0  December  2017  \n",
              "2    2017-12-30            0  December  2017  \n",
              "3    2017-12-29            0  December  2017  \n",
              "4    2017-12-25            0  December  2017  \n",
              "...         ...          ...       ...   ...  \n",
              "1212 2017-10-16            1   October  2017  \n",
              "1213 2017-10-16            1   October  2017  \n",
              "1214 2017-10-16            1   October  2017  \n",
              "1215 2017-10-16            1   October  2017  \n",
              "1216 2017-10-16            1   October  2017  \n",
              "\n",
              "[2418 rows x 7 columns]"
            ],
            "text/html": [
              "\n",
              "  <div id=\"df-fc296f91-8d32-46f2-9ee1-cd48f5f009ef\">\n",
              "    <div class=\"colab-df-container\">\n",
              "      <div>\n",
              "<style scoped>\n",
              "    .dataframe tbody tr th:only-of-type {\n",
              "        vertical-align: middle;\n",
              "    }\n",
              "\n",
              "    .dataframe tbody tr th {\n",
              "        vertical-align: top;\n",
              "    }\n",
              "\n",
              "    .dataframe thead th {\n",
              "        text-align: right;\n",
              "    }\n",
              "</style>\n",
              "<table border=\"1\" class=\"dataframe\">\n",
              "  <thead>\n",
              "    <tr style=\"text-align: right;\">\n",
              "      <th></th>\n",
              "      <th>TITLE</th>\n",
              "      <th>TEXT</th>\n",
              "      <th>SUBJECT</th>\n",
              "      <th>DATE</th>\n",
              "      <th>RELIABILITY</th>\n",
              "      <th>MONTH</th>\n",
              "      <th>YEAR</th>\n",
              "    </tr>\n",
              "  </thead>\n",
              "  <tbody>\n",
              "    <tr>\n",
              "      <th>0</th>\n",
              "      <td>Donald Trump Sends Out Embarrassing New Year’...</td>\n",
              "      <td>donald trump send embarrass new year eve messa...</td>\n",
              "      <td>News</td>\n",
              "      <td>2017-12-31</td>\n",
              "      <td>0</td>\n",
              "      <td>December</td>\n",
              "      <td>2017</td>\n",
              "    </tr>\n",
              "    <tr>\n",
              "      <th>1</th>\n",
              "      <td>Drunk Bragging Trump Staffer Started Russian ...</td>\n",
              "      <td>drunk brag trump staffer start russian collus ...</td>\n",
              "      <td>News</td>\n",
              "      <td>2017-12-31</td>\n",
              "      <td>0</td>\n",
              "      <td>December</td>\n",
              "      <td>2017</td>\n",
              "    </tr>\n",
              "    <tr>\n",
              "      <th>2</th>\n",
              "      <td>Sheriff David Clarke Becomes An Internet Joke...</td>\n",
              "      <td>sheriff david clark becom internet joke threat...</td>\n",
              "      <td>News</td>\n",
              "      <td>2017-12-30</td>\n",
              "      <td>0</td>\n",
              "      <td>December</td>\n",
              "      <td>2017</td>\n",
              "    </tr>\n",
              "    <tr>\n",
              "      <th>3</th>\n",
              "      <td>Trump Is So Obsessed He Even Has Obama’s Name...</td>\n",
              "      <td>trump obsess even obama name code websit imag ...</td>\n",
              "      <td>News</td>\n",
              "      <td>2017-12-29</td>\n",
              "      <td>0</td>\n",
              "      <td>December</td>\n",
              "      <td>2017</td>\n",
              "    </tr>\n",
              "    <tr>\n",
              "      <th>4</th>\n",
              "      <td>Pope Francis Just Called Out Donald Trump Dur...</td>\n",
              "      <td>pope franci call donald trump christma speechp...</td>\n",
              "      <td>News</td>\n",
              "      <td>2017-12-25</td>\n",
              "      <td>0</td>\n",
              "      <td>December</td>\n",
              "      <td>2017</td>\n",
              "    </tr>\n",
              "    <tr>\n",
              "      <th>...</th>\n",
              "      <td>...</td>\n",
              "      <td>...</td>\n",
              "      <td>...</td>\n",
              "      <td>...</td>\n",
              "      <td>...</td>\n",
              "      <td>...</td>\n",
              "      <td>...</td>\n",
              "    </tr>\n",
              "    <tr>\n",
              "      <th>1212</th>\n",
              "      <td>Trump to meet Yellen Thursday in search for ne...</td>\n",
              "      <td>trump meet yellen thursday search new fed chai...</td>\n",
              "      <td>politicsNews</td>\n",
              "      <td>2017-10-16</td>\n",
              "      <td>1</td>\n",
              "      <td>October</td>\n",
              "      <td>2017</td>\n",
              "    </tr>\n",
              "    <tr>\n",
              "      <th>1213</th>\n",
              "      <td>Trump says he believes Cuba responsible for at...</td>\n",
              "      <td>trump say believ cuba respons attack hurt u di...</td>\n",
              "      <td>politicsNews</td>\n",
              "      <td>2017-10-16</td>\n",
              "      <td>1</td>\n",
              "      <td>October</td>\n",
              "      <td>2017</td>\n",
              "    </tr>\n",
              "    <tr>\n",
              "      <th>1214</th>\n",
              "      <td>U.S. condemns Venezuelan elections as neither ...</td>\n",
              "      <td>u condemn venezuelan elect neither free fairu ...</td>\n",
              "      <td>politicsNews</td>\n",
              "      <td>2017-10-16</td>\n",
              "      <td>1</td>\n",
              "      <td>October</td>\n",
              "      <td>2017</td>\n",
              "    </tr>\n",
              "    <tr>\n",
              "      <th>1215</th>\n",
              "      <td>EPA head seeks to avoid settlements with green...</td>\n",
              "      <td>epa head seek avoid settlement green groupsepa...</td>\n",
              "      <td>politicsNews</td>\n",
              "      <td>2017-10-16</td>\n",
              "      <td>1</td>\n",
              "      <td>October</td>\n",
              "      <td>2017</td>\n",
              "    </tr>\n",
              "    <tr>\n",
              "      <th>1216</th>\n",
              "      <td>Republican U.S. Senator Cochran postpones retu...</td>\n",
              "      <td>republican u senat cochran postpon return wash...</td>\n",
              "      <td>politicsNews</td>\n",
              "      <td>2017-10-16</td>\n",
              "      <td>1</td>\n",
              "      <td>October</td>\n",
              "      <td>2017</td>\n",
              "    </tr>\n",
              "  </tbody>\n",
              "</table>\n",
              "<p>2418 rows × 7 columns</p>\n",
              "</div>\n",
              "      <button class=\"colab-df-convert\" onclick=\"convertToInteractive('df-fc296f91-8d32-46f2-9ee1-cd48f5f009ef')\"\n",
              "              title=\"Convert this dataframe to an interactive table.\"\n",
              "              style=\"display:none;\">\n",
              "        \n",
              "  <svg xmlns=\"http://www.w3.org/2000/svg\" height=\"24px\"viewBox=\"0 0 24 24\"\n",
              "       width=\"24px\">\n",
              "    <path d=\"M0 0h24v24H0V0z\" fill=\"none\"/>\n",
              "    <path d=\"M18.56 5.44l.94 2.06.94-2.06 2.06-.94-2.06-.94-.94-2.06-.94 2.06-2.06.94zm-11 1L8.5 8.5l.94-2.06 2.06-.94-2.06-.94L8.5 2.5l-.94 2.06-2.06.94zm10 10l.94 2.06.94-2.06 2.06-.94-2.06-.94-.94-2.06-.94 2.06-2.06.94z\"/><path d=\"M17.41 7.96l-1.37-1.37c-.4-.4-.92-.59-1.43-.59-.52 0-1.04.2-1.43.59L10.3 9.45l-7.72 7.72c-.78.78-.78 2.05 0 2.83L4 21.41c.39.39.9.59 1.41.59.51 0 1.02-.2 1.41-.59l7.78-7.78 2.81-2.81c.8-.78.8-2.07 0-2.86zM5.41 20L4 18.59l7.72-7.72 1.47 1.35L5.41 20z\"/>\n",
              "  </svg>\n",
              "      </button>\n",
              "      \n",
              "  <style>\n",
              "    .colab-df-container {\n",
              "      display:flex;\n",
              "      flex-wrap:wrap;\n",
              "      gap: 12px;\n",
              "    }\n",
              "\n",
              "    .colab-df-convert {\n",
              "      background-color: #E8F0FE;\n",
              "      border: none;\n",
              "      border-radius: 50%;\n",
              "      cursor: pointer;\n",
              "      display: none;\n",
              "      fill: #1967D2;\n",
              "      height: 32px;\n",
              "      padding: 0 0 0 0;\n",
              "      width: 32px;\n",
              "    }\n",
              "\n",
              "    .colab-df-convert:hover {\n",
              "      background-color: #E2EBFA;\n",
              "      box-shadow: 0px 1px 2px rgba(60, 64, 67, 0.3), 0px 1px 3px 1px rgba(60, 64, 67, 0.15);\n",
              "      fill: #174EA6;\n",
              "    }\n",
              "\n",
              "    [theme=dark] .colab-df-convert {\n",
              "      background-color: #3B4455;\n",
              "      fill: #D2E3FC;\n",
              "    }\n",
              "\n",
              "    [theme=dark] .colab-df-convert:hover {\n",
              "      background-color: #434B5C;\n",
              "      box-shadow: 0px 1px 3px 1px rgba(0, 0, 0, 0.15);\n",
              "      filter: drop-shadow(0px 1px 2px rgba(0, 0, 0, 0.3));\n",
              "      fill: #FFFFFF;\n",
              "    }\n",
              "  </style>\n",
              "\n",
              "      <script>\n",
              "        const buttonEl =\n",
              "          document.querySelector('#df-fc296f91-8d32-46f2-9ee1-cd48f5f009ef button.colab-df-convert');\n",
              "        buttonEl.style.display =\n",
              "          google.colab.kernel.accessAllowed ? 'block' : 'none';\n",
              "\n",
              "        async function convertToInteractive(key) {\n",
              "          const element = document.querySelector('#df-fc296f91-8d32-46f2-9ee1-cd48f5f009ef');\n",
              "          const dataTable =\n",
              "            await google.colab.kernel.invokeFunction('convertToInteractive',\n",
              "                                                     [key], {});\n",
              "          if (!dataTable) return;\n",
              "\n",
              "          const docLinkHtml = 'Like what you see? Visit the ' +\n",
              "            '<a target=\"_blank\" href=https://colab.research.google.com/notebooks/data_table.ipynb>data table notebook</a>'\n",
              "            + ' to learn more about interactive tables.';\n",
              "          element.innerHTML = '';\n",
              "          dataTable['output_type'] = 'display_data';\n",
              "          await google.colab.output.renderOutput(dataTable, element);\n",
              "          const docLink = document.createElement('div');\n",
              "          docLink.innerHTML = docLinkHtml;\n",
              "          element.appendChild(docLink);\n",
              "        }\n",
              "      </script>\n",
              "    </div>\n",
              "  </div>\n",
              "  "
            ]
          },
          "metadata": {},
          "execution_count": 99
        }
      ]
    },
    {
      "cell_type": "code",
      "source": [
        "news_data_clean.shape"
      ],
      "metadata": {
        "colab": {
          "base_uri": "https://localhost:8080/"
        },
        "id": "WjRLfZ9tnbGU",
        "outputId": "c9b15fd2-a795-41a0-e375-5a25f8c4b70c"
      },
      "id": "WjRLfZ9tnbGU",
      "execution_count": 100,
      "outputs": [
        {
          "output_type": "execute_result",
          "data": {
            "text/plain": [
              "(2418, 7)"
            ]
          },
          "metadata": {},
          "execution_count": 100
        }
      ]
    },
    {
      "cell_type": "markdown",
      "id": "12d47f36",
      "metadata": {
        "id": "12d47f36"
      },
      "source": [
        "## Explore the dataset\n",
        "Now, we explore the dataset. First, we can count the number of fake and real news in our dataset."
      ]
    },
    {
      "cell_type": "code",
      "execution_count": null,
      "id": "990dbfe4",
      "metadata": {
        "id": "990dbfe4"
      },
      "outputs": [],
      "source": [
        "sb.catplot(x = 'RELIABILITY', data = news_data_clean, kind = \"count\")"
      ]
    },
    {
      "cell_type": "markdown",
      "id": "8bb043f1",
      "metadata": {
        "id": "8bb043f1"
      },
      "source": [
        "Then, here is the number of news (both real and fake) grouped by subject"
      ]
    },
    {
      "cell_type": "code",
      "execution_count": null,
      "id": "71a66bc2",
      "metadata": {
        "id": "71a66bc2"
      },
      "outputs": [],
      "source": [
        "plt.figure (figsize=(20,16))\n",
        "sb.catplot(y = 'SUBJECT', data = news_data_clean, kind = \"count\").fig.set_figwidth(15)"
      ]
    },
    {
      "cell_type": "markdown",
      "id": "4df5af14",
      "metadata": {
        "id": "4df5af14"
      },
      "source": [
        "## New columns for month and year\n",
        "We can also extract the month and the year of the data using to_datetime function from pandas"
      ]
    },
    {
      "cell_type": "code",
      "execution_count": null,
      "id": "ab613cb3",
      "metadata": {
        "id": "ab613cb3",
        "scrolled": true
      },
      "outputs": [],
      "source": [
        "news_data_clean['DATE'] = pd.to_datetime(news_data_clean['DATE'], errors='coerce') # If 'coerce', then invalid parsing will be set as NaT.\n",
        "news_data_clean['MONTH'] = news_data_clean['DATE'].dt.month_name()\n",
        "news_data_clean['YEAR'] = news_data_clean['DATE'].dt.year.astype('Int32').astype(str)\n",
        "news_data_clean.sample(10)"
      ]
    },
    {
      "cell_type": "markdown",
      "id": "d89c1501",
      "metadata": {
        "id": "d89c1501"
      },
      "source": [
        "Here, we can show the number of news grouped by year"
      ]
    },
    {
      "cell_type": "code",
      "execution_count": null,
      "id": "756e98d1",
      "metadata": {
        "id": "756e98d1"
      },
      "outputs": [],
      "source": [
        "years = ['2015','2016','2017','2018']\n",
        "sb.catplot(x='YEAR', data=news_data_clean, kind = \"count\", hue = 'RELIABILITY', order = years)"
      ]
    },
    {
      "cell_type": "code",
      "execution_count": null,
      "id": "7e5097c7",
      "metadata": {
        "id": "7e5097c7"
      },
      "outputs": [],
      "source": [
        "news_data_clean['YEAR'].value_counts()"
      ]
    },
    {
      "cell_type": "markdown",
      "id": "63c1c161",
      "metadata": {
        "id": "63c1c161"
      },
      "source": [
        "Last, here is the number of news grouped by month"
      ]
    },
    {
      "cell_type": "code",
      "execution_count": null,
      "id": "389110c3",
      "metadata": {
        "id": "389110c3",
        "scrolled": false
      },
      "outputs": [],
      "source": [
        "months = ['January','February','March','April','May','June','July','August','September','October','November','December']\n",
        "sb.catplot(x='MONTH', data=news_data_clean, kind = \"count\", hue = 'RELIABILITY', order = months).fig.set_figwidth(15)"
      ]
    },
    {
      "cell_type": "markdown",
      "id": "ad55d49d",
      "metadata": {
        "id": "ad55d49d"
      },
      "source": [
        "## Importing Essential Libraries\n",
        "\n",
        "nltk : Natural Language Toolkit Library                        \n",
        "re : Regular Expression             \n",
        "sklearn : Skitlearn Library       \n",
        "TfidfVectorizer : Term Frequency and Inverse Document Frequency"
      ]
    },
    {
      "cell_type": "code",
      "execution_count": null,
      "id": "5f489ee5",
      "metadata": {
        "id": "5f489ee5"
      },
      "outputs": [],
      "source": [
        "import re                                                                          # Regular Expression Library\n",
        "import nltk                                                                        # Natural language toolkit library\n",
        "from nltk.corpus import stopwords                                                  #Removes word like \"the\", \"where\" etc\n",
        "from nltk.stem.porter import PorterStemmer                                         #Gives root word for a word\n",
        "from sklearn.feature_extraction.text import TfidfVectorizer                        #Convert text to TF-IDF features (Term Frequency and Inverse Document Frequency)\n",
        "from sklearn.model_selection import train_test_split\n",
        "from sklearn.linear_model import LogisticRegression\n",
        "from sklearn.metrics import accuracy_score"
      ]
    },
    {
      "cell_type": "code",
      "execution_count": null,
      "id": "08a982d9",
      "metadata": {
        "id": "08a982d9"
      },
      "outputs": [],
      "source": [
        "nltk.download('stopwords')                                                        # Downloading the stopwords package"
      ]
    },
    {
      "cell_type": "code",
      "execution_count": null,
      "id": "496afdfa",
      "metadata": {
        "id": "496afdfa"
      },
      "outputs": [],
      "source": [
        "print(stopwords.words('english'))                                                  # Printing out all the stopwords in the english language listed in the package"
      ]
    },
    {
      "cell_type": "markdown",
      "id": "d2028960",
      "metadata": {
        "id": "d2028960"
      },
      "source": [
        "## Pre- Processing the Data for Training\n",
        "\n",
        "In this, our job is to make sure there are not any null values as well as we extract the particular column that we shall be using for our predictive model."
      ]
    },
    {
      "cell_type": "code",
      "execution_count": null,
      "id": "d005bf1d",
      "metadata": {
        "id": "d005bf1d"
      },
      "outputs": [],
      "source": [
        "news_data_clean.head()"
      ]
    },
    {
      "cell_type": "code",
      "execution_count": null,
      "id": "ffd611b0",
      "metadata": {
        "id": "ffd611b0"
      },
      "outputs": [],
      "source": [
        "news_data_clean.isnull().sum()"
      ]
    },
    {
      "cell_type": "code",
      "execution_count": null,
      "id": "7b338b9c",
      "metadata": {
        "id": "7b338b9c"
      },
      "outputs": [],
      "source": [
        "news_data_clean = news_data_clean.fillna('')"
      ]
    },
    {
      "cell_type": "code",
      "execution_count": null,
      "id": "3c94fc85",
      "metadata": {
        "id": "3c94fc85"
      },
      "outputs": [],
      "source": [
        "news_data_clean[\"TEXT\"] = news_data_clean[\"TITLE\"]                                  # Extracting only the Title column for implementation in the model"
      ]
    },
    {
      "cell_type": "code",
      "execution_count": null,
      "id": "be655938",
      "metadata": {
        "id": "be655938"
      },
      "outputs": [],
      "source": [
        "news_data_clean[\"TEXT\"].head()"
      ]
    },
    {
      "cell_type": "markdown",
      "id": "62765a5e",
      "metadata": {
        "id": "62765a5e"
      },
      "source": [
        "### Stemming : is the process of reducing a word to its Root Word\n",
        "\n",
        "Example:\n",
        "words : photograph, autograph, geography etc --> root word : graph"
      ]
    },
    {
      "cell_type": "code",
      "execution_count": null,
      "id": "3471be7d",
      "metadata": {
        "id": "3471be7d"
      },
      "outputs": [],
      "source": [
        "port_stem = PorterStemmer()                                                         # Calling the porterstemmer method"
      ]
    },
    {
      "cell_type": "code",
      "execution_count": null,
      "id": "b6223852",
      "metadata": {
        "id": "b6223852"
      },
      "outputs": [],
      "source": [
        "def stemming(text):                                                                 # Defining a function to implement root words\n",
        "  stem_text = re.sub('[^a-zA-z]',' ', text)\n",
        "  stem_text = stem_text.lower()\n",
        "  stem_text = stem_text.split()\n",
        "  stem_text = [port_stem.stem(word) for word in stem_text if not word in stopwords.words(\"english\")]\n",
        "  stem_text = ' '.join(stem_text)\n",
        "  return stem_text"
      ]
    },
    {
      "cell_type": "code",
      "execution_count": null,
      "id": "c9732450",
      "metadata": {
        "id": "c9732450"
      },
      "outputs": [],
      "source": [
        "news_data_clean[\"TEXT\"] = news_data_clean[\"TEXT\"].apply(stemming)                   # Applying the function to our data (Title)"
      ]
    },
    {
      "cell_type": "code",
      "execution_count": null,
      "id": "7e7b2255",
      "metadata": {
        "id": "7e7b2255"
      },
      "outputs": [],
      "source": [
        "print(news_data_clean[\"TEXT\"])"
      ]
    },
    {
      "cell_type": "code",
      "execution_count": null,
      "id": "914d7f54",
      "metadata": {
        "id": "914d7f54"
      },
      "outputs": [],
      "source": [
        "X = news_data_clean.drop(columns= \"RELIABILITY\", axis = 1)\n",
        "Y = news_data_clean[\"RELIABILITY\"]"
      ]
    },
    {
      "cell_type": "code",
      "execution_count": null,
      "id": "763c787f",
      "metadata": {
        "id": "763c787f"
      },
      "outputs": [],
      "source": [
        "X= news_data_clean[\"TEXT\"].values\n",
        "Y= news_data_clean[\"RELIABILITY\"].values"
      ]
    },
    {
      "cell_type": "code",
      "execution_count": null,
      "id": "d5d85da8",
      "metadata": {
        "id": "d5d85da8"
      },
      "outputs": [],
      "source": [
        "print(X)                                                                            # You can finally see the output after text cleaning"
      ]
    },
    {
      "cell_type": "code",
      "execution_count": null,
      "id": "aa8b3df8",
      "metadata": {
        "id": "aa8b3df8"
      },
      "outputs": [],
      "source": [
        "print(Y)"
      ]
    },
    {
      "cell_type": "markdown",
      "source": [
        "### Applying Vectorization to our Title Data\n",
        "\n",
        "Vectorization refers to mapping of words/text to its corresponding vector of real numbers."
      ],
      "metadata": {
        "id": "s8BS8spviLDU"
      },
      "id": "s8BS8spviLDU"
    },
    {
      "cell_type": "code",
      "execution_count": null,
      "id": "5c4d0cd3",
      "metadata": {
        "id": "5c4d0cd3"
      },
      "outputs": [],
      "source": [
        "vectorizer = TfidfVectorizer()                                                      # Applying vectorization methods to transform the text data into numbers\n",
        "vectorizer.fit(X)\n",
        "\n",
        "X = vectorizer.transform(X) "
      ]
    },
    {
      "cell_type": "code",
      "execution_count": null,
      "id": "98267793",
      "metadata": {
        "id": "98267793"
      },
      "outputs": [],
      "source": [
        "print(X)"
      ]
    },
    {
      "cell_type": "markdown",
      "source": [
        "### Splitting and Training the Data"
      ],
      "metadata": {
        "id": "6gLTR00GiSp7"
      },
      "id": "6gLTR00GiSp7"
    },
    {
      "cell_type": "code",
      "execution_count": null,
      "id": "f778437a",
      "metadata": {
        "id": "f778437a"
      },
      "outputs": [],
      "source": [
        "X_train, X_test, Y_train, Y_test = train_test_split(X, Y, test_size = 0.2, stratify =Y, random_state = 42)       # Splitting Test and Text Data"
      ]
    },
    {
      "cell_type": "markdown",
      "id": "560a1e1d",
      "metadata": {
        "id": "560a1e1d"
      },
      "source": [
        "Training the Model Using Logistic Regression (Using this because Binary Classification is done best using LR)"
      ]
    },
    {
      "cell_type": "code",
      "execution_count": null,
      "id": "f6c1cbbb",
      "metadata": {
        "id": "f6c1cbbb"
      },
      "outputs": [],
      "source": [
        "model = LogisticRegression()                                                           # Fitting the model into our LR Model"
      ]
    },
    {
      "cell_type": "code",
      "execution_count": null,
      "id": "e3640ddf",
      "metadata": {
        "id": "e3640ddf"
      },
      "outputs": [],
      "source": [
        "model.fit(X_train, Y_train)"
      ]
    },
    {
      "cell_type": "code",
      "execution_count": null,
      "id": "40f02423",
      "metadata": {
        "id": "40f02423"
      },
      "outputs": [],
      "source": [
        "X_train_prediction = model.predict(X_train)\n",
        "training_data_accuracy = accuracy_score(X_train_prediction, Y_train)"
      ]
    },
    {
      "cell_type": "code",
      "execution_count": null,
      "id": "1d4af780",
      "metadata": {
        "id": "1d4af780"
      },
      "outputs": [],
      "source": [
        "print(training_data_accuracy)                                                         # Printing train data accuracy"
      ]
    },
    {
      "cell_type": "code",
      "execution_count": null,
      "id": "91424f21",
      "metadata": {
        "id": "91424f21"
      },
      "outputs": [],
      "source": [
        "X_test_prediction = model.predict(X_test)\n",
        "test_data_accuracy = accuracy_score(X_test_prediction, Y_test)"
      ]
    },
    {
      "cell_type": "code",
      "execution_count": null,
      "id": "2f63f4fb",
      "metadata": {
        "id": "2f63f4fb"
      },
      "outputs": [],
      "source": [
        "print(test_data_accuracy)                                                           # Printing test data accuracy"
      ]
    },
    {
      "cell_type": "markdown",
      "source": [
        "### Making a Predictive System based on our model"
      ],
      "metadata": {
        "id": "8YJcjjswYVPQ"
      },
      "id": "8YJcjjswYVPQ"
    },
    {
      "cell_type": "code",
      "execution_count": null,
      "id": "fc885111",
      "metadata": {
        "id": "fc885111"
      },
      "outputs": [],
      "source": [
        "Z = int(input(\"Enter a random index value from the X Dataset:\"))\n",
        "X_new = X_test[Z]\n",
        "\n",
        "predicter = model.predict(X_new)\n",
        "print(predicter)\n",
        "\n",
        "if(predicter[0]==0):\n",
        "  print(\"The news is Fake\")\n",
        "else:\n",
        "  print(\"The news is Real\")"
      ]
    },
    {
      "cell_type": "code",
      "execution_count": null,
      "id": "a494c4d7",
      "metadata": {
        "id": "a494c4d7"
      },
      "outputs": [],
      "source": [
        "print (Y_test[Z])"
      ]
    },
    {
      "cell_type": "markdown",
      "source": [
        "## Combined Title + Text Columns of the Dataset\n",
        "\n",
        "#### We also tried using both text as well as the title columns combined to train our data and visualised if the model works without overfitting.**bold text**"
      ],
      "metadata": {
        "id": "uxYYbnlDktao"
      },
      "id": "uxYYbnlDktao"
    },
    {
      "cell_type": "code",
      "execution_count": null,
      "metadata": {
        "id": "QMY6b6ZLkfL0"
      },
      "outputs": [],
      "source": [
        "news_data_clean[\"TEXT\"] = news_data_clean[\"TITLE\"]+news_data_clean[\"TEXT\"]"
      ],
      "id": "QMY6b6ZLkfL0"
    },
    {
      "cell_type": "code",
      "execution_count": null,
      "metadata": {
        "id": "0jeRR7l3kfL1"
      },
      "outputs": [],
      "source": [
        "news_data_clean[\"TEXT\"].head()"
      ],
      "id": "0jeRR7l3kfL1"
    },
    {
      "cell_type": "code",
      "execution_count": null,
      "metadata": {
        "id": "-mbPl7XnkfL1"
      },
      "outputs": [],
      "source": [
        "news_data_clean[\"TEXT\"] = news_data_clean[\"TEXT\"].apply(stemming)"
      ],
      "id": "-mbPl7XnkfL1"
    },
    {
      "cell_type": "code",
      "execution_count": null,
      "metadata": {
        "id": "RTQqpRz6kfL1"
      },
      "outputs": [],
      "source": [
        "print(news_data_clean[\"TEXT\"])"
      ],
      "id": "RTQqpRz6kfL1"
    },
    {
      "cell_type": "code",
      "execution_count": null,
      "metadata": {
        "id": "dhN1FlbGkfL1"
      },
      "outputs": [],
      "source": [
        "X = news_data_clean.drop(columns= \"RELIABILITY\", axis = 1)\n",
        "Y = news_data_clean[\"RELIABILITY\"]"
      ],
      "id": "dhN1FlbGkfL1"
    },
    {
      "cell_type": "code",
      "execution_count": null,
      "metadata": {
        "id": "keStTntNkfL1"
      },
      "outputs": [],
      "source": [
        "X= news_data_clean[\"TEXT\"].values\n",
        "Y= news_data_clean[\"RELIABILITY\"].values"
      ],
      "id": "keStTntNkfL1"
    },
    {
      "cell_type": "code",
      "execution_count": null,
      "metadata": {
        "id": "f9pZPyfOkfL1"
      },
      "outputs": [],
      "source": [
        "print(X)"
      ],
      "id": "f9pZPyfOkfL1"
    },
    {
      "cell_type": "code",
      "execution_count": null,
      "metadata": {
        "id": "hRU_TDmzkfL1"
      },
      "outputs": [],
      "source": [
        "print(Y)"
      ],
      "id": "hRU_TDmzkfL1"
    },
    {
      "cell_type": "code",
      "execution_count": null,
      "metadata": {
        "id": "1kEbP362kfL2"
      },
      "outputs": [],
      "source": [
        "vectorizer = TfidfVectorizer()\n",
        "vectorizer.fit(X)\n",
        "\n",
        "X = vectorizer.transform(X) "
      ],
      "id": "1kEbP362kfL2"
    },
    {
      "cell_type": "code",
      "execution_count": null,
      "metadata": {
        "id": "hGt1Tal0kfL2"
      },
      "outputs": [],
      "source": [
        "print(X)"
      ],
      "id": "hGt1Tal0kfL2"
    },
    {
      "cell_type": "code",
      "execution_count": null,
      "metadata": {
        "id": "jPpGAajKkfL2"
      },
      "outputs": [],
      "source": [
        "X_train, X_test, Y_train, Y_test = train_test_split(X, Y, test_size = 0.2, stratify =Y, random_state = 42)"
      ],
      "id": "jPpGAajKkfL2"
    },
    {
      "cell_type": "code",
      "execution_count": null,
      "metadata": {
        "id": "2BDpZbc-kfL2"
      },
      "outputs": [],
      "source": [
        "model = LogisticRegression()"
      ],
      "id": "2BDpZbc-kfL2"
    },
    {
      "cell_type": "code",
      "execution_count": null,
      "metadata": {
        "id": "ovHSNLU_kfL2"
      },
      "outputs": [],
      "source": [
        "model.fit(X_train, Y_train)"
      ],
      "id": "ovHSNLU_kfL2"
    },
    {
      "cell_type": "code",
      "execution_count": null,
      "metadata": {
        "id": "YBdnZA9wkfL2"
      },
      "outputs": [],
      "source": [
        "X_train_prediction = model.predict(X_train)\n",
        "training_data_accuracy = accuracy_score(X_train_prediction, Y_train)"
      ],
      "id": "YBdnZA9wkfL2"
    },
    {
      "cell_type": "code",
      "execution_count": null,
      "metadata": {
        "id": "-Mv73VF-kfL2"
      },
      "outputs": [],
      "source": [
        "print(training_data_accuracy)"
      ],
      "id": "-Mv73VF-kfL2"
    },
    {
      "cell_type": "code",
      "execution_count": null,
      "metadata": {
        "id": "S9XQba6qkfL2"
      },
      "outputs": [],
      "source": [
        "X_test_prediction = model.predict(X_test)\n",
        "test_data_accuracy = accuracy_score(X_test_prediction, Y_test)"
      ],
      "id": "S9XQba6qkfL2"
    },
    {
      "cell_type": "code",
      "execution_count": null,
      "metadata": {
        "id": "fVUS9NdAkfL2"
      },
      "outputs": [],
      "source": [
        "print(test_data_accuracy)"
      ],
      "id": "fVUS9NdAkfL2"
    },
    {
      "cell_type": "code",
      "execution_count": null,
      "metadata": {
        "id": "kRpb_pSKkfL2"
      },
      "outputs": [],
      "source": [
        "Z = int(input(\"Enter a random index value from the X Dataset:\"))\n",
        "X_new = X_test[Z]\n",
        "\n",
        "predicter = model.predict(X_new)\n",
        "print(predicter)\n",
        "\n",
        "if(predicter[0]==0):\n",
        "  print(\"The news is Fake\")\n",
        "else:\n",
        "  print(\"The news is Real\")"
      ],
      "id": "kRpb_pSKkfL2"
    },
    {
      "cell_type": "code",
      "execution_count": null,
      "metadata": {
        "id": "ekFCgWtCkfL2"
      },
      "outputs": [],
      "source": [
        "print (Y_test[Z])"
      ],
      "id": "ekFCgWtCkfL2"
    }
  ],
  "metadata": {
    "colab": {
      "collapsed_sections": [],
      "provenance": []
    },
    "kernelspec": {
      "display_name": "Python 3 (ipykernel)",
      "language": "python",
      "name": "python3"
    },
    "language_info": {
      "codemirror_mode": {
        "name": "ipython",
        "version": 3
      },
      "file_extension": ".py",
      "mimetype": "text/x-python",
      "name": "python",
      "nbconvert_exporter": "python",
      "pygments_lexer": "ipython3",
      "version": "3.9.12"
    }
  },
  "nbformat": 4,
  "nbformat_minor": 5
}